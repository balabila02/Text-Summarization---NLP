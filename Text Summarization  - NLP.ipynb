{
 "cells": [
  {
   "cell_type": "markdown",
   "id": "afbac403",
   "metadata": {},
   "source": [
    "# TEXT SUMMARIZATION"
   ]
  },
  {
   "cell_type": "markdown",
   "id": "31e389e9",
   "metadata": {},
   "source": [
    "**Process**\n",
    "- Text Cleaning\n",
    "- Sentence Tokenization\n",
    "- Word Tokenization\n",
    "- Frequency of words\n",
    "- Summarization"
   ]
  },
  {
   "cell_type": "code",
   "execution_count": 38,
   "id": "accac2d6",
   "metadata": {},
   "outputs": [],
   "source": [
    "Text=\"\"\"\n",
    "(IAFS-III) brought the leaders and representatives of all 54 countries of the dynamic African countries to New Delhi for first time in a landmark summit meeting that is set to upscale and transform the multi-faceted India-Africa partnership. This was by far the biggest gathering of African leaders on the Indian soil and showcased multiple dimensions of the India-Africa relationship that is pivoted around trade, training, technology, capacity building and development partnership. In a clear reaffirmation of their unstinting commitment to building lasting partnerships with India, 41 countries were represented at the level of heads of state/government.\n",
    "\n",
    "The architecture of the India-Africa engagement is evolving, with the two sides relating at three levels, namely bilateral, Regional Economic Communities (RECs) and the African Union.\n",
    "\n",
    "The IAFS-III brought out vividly an increasing convergence of interests, values and a burgeoning web of win-win partnership between the two growth poles of the world. Afro-optimism is for real, and is attested by latest trends, with more than thirty African countries becoming functioning democracies.And it’s not just resource-rich countries that are doing well, but also those countries, which are driven by enterprise and innovation of their people.\n",
    "\n",
    "The resurgence of Africa has coincided with the rise of India as a global player, investor and provider of developmental assistance. The two narratives are now getting intertwined: be it trade, technology, training or reform of global governance, the multi-faceted ties between India and Africa are blossoming and finding new areas of convergence. The third India-Africa Forum Summit has opened new avenues for upscaling the India-Africa partnership across the spectrum.\n",
    "    \n",
    "\"\"\"\n"
   ]
  },
  {
   "cell_type": "code",
   "execution_count": 7,
   "id": "bab5fe07",
   "metadata": {},
   "outputs": [
    {
     "name": "stdout",
     "output_type": "stream",
     "text": [
      "Requirement already satisfied: spacy in c:\\users\\sony\\anaconda3\\envs\\tensorflow sessions\\lib\\site-packages (3.0.6)\n",
      "Requirement already satisfied: preshed<3.1.0,>=3.0.2 in c:\\users\\sony\\anaconda3\\envs\\tensorflow sessions\\lib\\site-packages (from spacy) (3.0.5)\n",
      "Requirement already satisfied: spacy-legacy<3.1.0,>=3.0.4 in c:\\users\\sony\\anaconda3\\envs\\tensorflow sessions\\lib\\site-packages (from spacy) (3.0.5)\n",
      "Requirement already satisfied: packaging>=20.0 in c:\\users\\sony\\anaconda3\\envs\\tensorflow sessions\\lib\\site-packages (from spacy) (20.9)\n",
      "Requirement already satisfied: catalogue<2.1.0,>=2.0.3 in c:\\users\\sony\\anaconda3\\envs\\tensorflow sessions\\lib\\site-packages (from spacy) (2.0.4)\n",
      "Requirement already satisfied: pydantic<1.8.0,>=1.7.1 in c:\\users\\sony\\anaconda3\\envs\\tensorflow sessions\\lib\\site-packages (from spacy) (1.7.4)\n",
      "Requirement already satisfied: requests<3.0.0,>=2.13.0 in c:\\users\\sony\\anaconda3\\envs\\tensorflow sessions\\lib\\site-packages (from spacy) (2.25.1)\n",
      "Requirement already satisfied: srsly<3.0.0,>=2.4.1 in c:\\users\\sony\\anaconda3\\envs\\tensorflow sessions\\lib\\site-packages (from spacy) (2.4.1)\n",
      "Requirement already satisfied: murmurhash<1.1.0,>=0.28.0 in c:\\users\\sony\\anaconda3\\envs\\tensorflow sessions\\lib\\site-packages (from spacy) (1.0.5)\n",
      "Requirement already satisfied: tqdm<5.0.0,>=4.38.0 in c:\\users\\sony\\anaconda3\\envs\\tensorflow sessions\\lib\\site-packages (from spacy) (4.59.0)\n",
      "Requirement already satisfied: typing-extensions<4.0.0.0,>=3.7.4 in c:\\users\\sony\\anaconda3\\envs\\tensorflow sessions\\lib\\site-packages (from spacy) (3.7.4.3)\n",
      "Requirement already satisfied: pathy>=0.3.5 in c:\\users\\sony\\anaconda3\\envs\\tensorflow sessions\\lib\\site-packages (from spacy) (0.5.2)\n",
      "Requirement already satisfied: setuptools in c:\\users\\sony\\anaconda3\\envs\\tensorflow sessions\\lib\\site-packages (from spacy) (52.0.0.post20210125)\n",
      "Requirement already satisfied: thinc<8.1.0,>=8.0.3 in c:\\users\\sony\\anaconda3\\envs\\tensorflow sessions\\lib\\site-packages (from spacy) (8.0.3)\n",
      "Requirement already satisfied: jinja2 in c:\\users\\sony\\anaconda3\\envs\\tensorflow sessions\\lib\\site-packages (from spacy) (3.0.0)\n",
      "Requirement already satisfied: cymem<2.1.0,>=2.0.2 in c:\\users\\sony\\anaconda3\\envs\\tensorflow sessions\\lib\\site-packages (from spacy) (2.0.5)\n",
      "Requirement already satisfied: blis<0.8.0,>=0.4.0 in c:\\users\\sony\\anaconda3\\envs\\tensorflow sessions\\lib\\site-packages (from spacy) (0.7.4)\n",
      "Requirement already satisfied: wasabi<1.1.0,>=0.8.1 in c:\\users\\sony\\anaconda3\\envs\\tensorflow sessions\\lib\\site-packages (from spacy) (0.8.2)\n",
      "Requirement already satisfied: typer<0.4.0,>=0.3.0 in c:\\users\\sony\\anaconda3\\envs\\tensorflow sessions\\lib\\site-packages (from spacy) (0.3.2)\n",
      "Requirement already satisfied: numpy>=1.15.0 in c:\\users\\sony\\anaconda3\\envs\\tensorflow sessions\\lib\\site-packages (from spacy) (1.20.2)\n",
      "Requirement already satisfied: zipp>=0.5 in c:\\users\\sony\\anaconda3\\envs\\tensorflow sessions\\lib\\site-packages (from catalogue<2.1.0,>=2.0.3->spacy) (3.4.1)\n",
      "Requirement already satisfied: pyparsing>=2.0.2 in c:\\users\\sony\\anaconda3\\envs\\tensorflow sessions\\lib\\site-packages (from packaging>=20.0->spacy) (2.4.7)\n",
      "Requirement already satisfied: smart-open<4.0.0,>=2.2.0 in c:\\users\\sony\\anaconda3\\envs\\tensorflow sessions\\lib\\site-packages (from pathy>=0.3.5->spacy) (3.0.0)\n",
      "Requirement already satisfied: chardet<5,>=3.0.2 in c:\\users\\sony\\anaconda3\\envs\\tensorflow sessions\\lib\\site-packages (from requests<3.0.0,>=2.13.0->spacy) (3.0.4)\n",
      "Requirement already satisfied: urllib3<1.27,>=1.21.1 in c:\\users\\sony\\anaconda3\\envs\\tensorflow sessions\\lib\\site-packages (from requests<3.0.0,>=2.13.0->spacy) (1.26.4)\n",
      "Requirement already satisfied: certifi>=2017.4.17 in c:\\users\\sony\\anaconda3\\envs\\tensorflow sessions\\lib\\site-packages (from requests<3.0.0,>=2.13.0->spacy) (2020.12.5)\n",
      "Requirement already satisfied: idna<3,>=2.5 in c:\\users\\sony\\anaconda3\\envs\\tensorflow sessions\\lib\\site-packages (from requests<3.0.0,>=2.13.0->spacy) (2.10)\n",
      "Requirement already satisfied: click<7.2.0,>=7.1.1 in c:\\users\\sony\\anaconda3\\envs\\tensorflow sessions\\lib\\site-packages (from typer<0.4.0,>=0.3.0->spacy) (7.1.2)\n",
      "Requirement already satisfied: MarkupSafe>=2.0.0rc2 in c:\\users\\sony\\anaconda3\\envs\\tensorflow sessions\\lib\\site-packages (from jinja2->spacy) (2.0.1)\n",
      "Collecting en-core-web-sm==3.0.0\n",
      "  Downloading https://github.com/explosion/spacy-models/releases/download/en_core_web_sm-3.0.0/en_core_web_sm-3.0.0-py3-none-any.whl (13.7 MB)\n",
      "Requirement already satisfied: spacy<3.1.0,>=3.0.0 in c:\\users\\sony\\anaconda3\\envs\\tensorflow sessions\\lib\\site-packages (from en-core-web-sm==3.0.0) (3.0.6)\n",
      "Requirement already satisfied: blis<0.8.0,>=0.4.0 in c:\\users\\sony\\anaconda3\\envs\\tensorflow sessions\\lib\\site-packages (from spacy<3.1.0,>=3.0.0->en-core-web-sm==3.0.0) (0.7.4)\n",
      "Requirement already satisfied: pathy>=0.3.5 in c:\\users\\sony\\anaconda3\\envs\\tensorflow sessions\\lib\\site-packages (from spacy<3.1.0,>=3.0.0->en-core-web-sm==3.0.0) (0.5.2)\n",
      "Requirement already satisfied: murmurhash<1.1.0,>=0.28.0 in c:\\users\\sony\\anaconda3\\envs\\tensorflow sessions\\lib\\site-packages (from spacy<3.1.0,>=3.0.0->en-core-web-sm==3.0.0) (1.0.5)\n",
      "Requirement already satisfied: thinc<8.1.0,>=8.0.3 in c:\\users\\sony\\anaconda3\\envs\\tensorflow sessions\\lib\\site-packages (from spacy<3.1.0,>=3.0.0->en-core-web-sm==3.0.0) (8.0.3)\n",
      "Requirement already satisfied: catalogue<2.1.0,>=2.0.3 in c:\\users\\sony\\anaconda3\\envs\\tensorflow sessions\\lib\\site-packages (from spacy<3.1.0,>=3.0.0->en-core-web-sm==3.0.0) (2.0.4)\n",
      "Requirement already satisfied: numpy>=1.15.0 in c:\\users\\sony\\anaconda3\\envs\\tensorflow sessions\\lib\\site-packages (from spacy<3.1.0,>=3.0.0->en-core-web-sm==3.0.0) (1.20.2)\n",
      "Requirement already satisfied: cymem<2.1.0,>=2.0.2 in c:\\users\\sony\\anaconda3\\envs\\tensorflow sessions\\lib\\site-packages (from spacy<3.1.0,>=3.0.0->en-core-web-sm==3.0.0) (2.0.5)\n",
      "Requirement already satisfied: requests<3.0.0,>=2.13.0 in c:\\users\\sony\\anaconda3\\envs\\tensorflow sessions\\lib\\site-packages (from spacy<3.1.0,>=3.0.0->en-core-web-sm==3.0.0) (2.25.1)\n",
      "Requirement already satisfied: preshed<3.1.0,>=3.0.2 in c:\\users\\sony\\anaconda3\\envs\\tensorflow sessions\\lib\\site-packages (from spacy<3.1.0,>=3.0.0->en-core-web-sm==3.0.0) (3.0.5)\n",
      "Requirement already satisfied: spacy-legacy<3.1.0,>=3.0.4 in c:\\users\\sony\\anaconda3\\envs\\tensorflow sessions\\lib\\site-packages (from spacy<3.1.0,>=3.0.0->en-core-web-sm==3.0.0) (3.0.5)\n",
      "Requirement already satisfied: pydantic<1.8.0,>=1.7.1 in c:\\users\\sony\\anaconda3\\envs\\tensorflow sessions\\lib\\site-packages (from spacy<3.1.0,>=3.0.0->en-core-web-sm==3.0.0) (1.7.4)\n",
      "Requirement already satisfied: jinja2 in c:\\users\\sony\\anaconda3\\envs\\tensorflow sessions\\lib\\site-packages (from spacy<3.1.0,>=3.0.0->en-core-web-sm==3.0.0) (3.0.0)\n",
      "Requirement already satisfied: setuptools in c:\\users\\sony\\anaconda3\\envs\\tensorflow sessions\\lib\\site-packages (from spacy<3.1.0,>=3.0.0->en-core-web-sm==3.0.0) (52.0.0.post20210125)\n",
      "Requirement already satisfied: typer<0.4.0,>=0.3.0 in c:\\users\\sony\\anaconda3\\envs\\tensorflow sessions\\lib\\site-packages (from spacy<3.1.0,>=3.0.0->en-core-web-sm==3.0.0) (0.3.2)\n",
      "Requirement already satisfied: srsly<3.0.0,>=2.4.1 in c:\\users\\sony\\anaconda3\\envs\\tensorflow sessions\\lib\\site-packages (from spacy<3.1.0,>=3.0.0->en-core-web-sm==3.0.0) (2.4.1)\n",
      "Requirement already satisfied: packaging>=20.0 in c:\\users\\sony\\anaconda3\\envs\\tensorflow sessions\\lib\\site-packages (from spacy<3.1.0,>=3.0.0->en-core-web-sm==3.0.0) (20.9)\n",
      "Requirement already satisfied: tqdm<5.0.0,>=4.38.0 in c:\\users\\sony\\anaconda3\\envs\\tensorflow sessions\\lib\\site-packages (from spacy<3.1.0,>=3.0.0->en-core-web-sm==3.0.0) (4.59.0)\n",
      "Requirement already satisfied: wasabi<1.1.0,>=0.8.1 in c:\\users\\sony\\anaconda3\\envs\\tensorflow sessions\\lib\\site-packages (from spacy<3.1.0,>=3.0.0->en-core-web-sm==3.0.0) (0.8.2)\n",
      "Requirement already satisfied: typing-extensions<4.0.0.0,>=3.7.4 in c:\\users\\sony\\anaconda3\\envs\\tensorflow sessions\\lib\\site-packages (from spacy<3.1.0,>=3.0.0->en-core-web-sm==3.0.0) (3.7.4.3)\n",
      "Requirement already satisfied: zipp>=0.5 in c:\\users\\sony\\anaconda3\\envs\\tensorflow sessions\\lib\\site-packages (from catalogue<2.1.0,>=2.0.3->spacy<3.1.0,>=3.0.0->en-core-web-sm==3.0.0) (3.4.1)\n",
      "Requirement already satisfied: pyparsing>=2.0.2 in c:\\users\\sony\\anaconda3\\envs\\tensorflow sessions\\lib\\site-packages (from packaging>=20.0->spacy<3.1.0,>=3.0.0->en-core-web-sm==3.0.0) (2.4.7)\n",
      "Requirement already satisfied: smart-open<4.0.0,>=2.2.0 in c:\\users\\sony\\anaconda3\\envs\\tensorflow sessions\\lib\\site-packages (from pathy>=0.3.5->spacy<3.1.0,>=3.0.0->en-core-web-sm==3.0.0) (3.0.0)\n",
      "Requirement already satisfied: urllib3<1.27,>=1.21.1 in c:\\users\\sony\\anaconda3\\envs\\tensorflow sessions\\lib\\site-packages (from requests<3.0.0,>=2.13.0->spacy<3.1.0,>=3.0.0->en-core-web-sm==3.0.0) (1.26.4)\n",
      "Requirement already satisfied: chardet<5,>=3.0.2 in c:\\users\\sony\\anaconda3\\envs\\tensorflow sessions\\lib\\site-packages (from requests<3.0.0,>=2.13.0->spacy<3.1.0,>=3.0.0->en-core-web-sm==3.0.0) (3.0.4)\n",
      "Requirement already satisfied: idna<3,>=2.5 in c:\\users\\sony\\anaconda3\\envs\\tensorflow sessions\\lib\\site-packages (from requests<3.0.0,>=2.13.0->spacy<3.1.0,>=3.0.0->en-core-web-sm==3.0.0) (2.10)\n",
      "Requirement already satisfied: certifi>=2017.4.17 in c:\\users\\sony\\anaconda3\\envs\\tensorflow sessions\\lib\\site-packages (from requests<3.0.0,>=2.13.0->spacy<3.1.0,>=3.0.0->en-core-web-sm==3.0.0) (2020.12.5)\n",
      "Requirement already satisfied: click<7.2.0,>=7.1.1 in c:\\users\\sony\\anaconda3\\envs\\tensorflow sessions\\lib\\site-packages (from typer<0.4.0,>=0.3.0->spacy<3.1.0,>=3.0.0->en-core-web-sm==3.0.0) (7.1.2)\n",
      "Requirement already satisfied: MarkupSafe>=2.0.0rc2 in c:\\users\\sony\\anaconda3\\envs\\tensorflow sessions\\lib\\site-packages (from jinja2->spacy<3.1.0,>=3.0.0->en-core-web-sm==3.0.0) (2.0.1)\n",
      "[+] Download and installation successful\n",
      "You can now load the package via spacy.load('en_core_web_sm')\n"
     ]
    }
   ],
   "source": [
    "!pip install -U spacy\n",
    "!python -m spacy download en_core_web_sm"
   ]
  },
  {
   "cell_type": "code",
   "execution_count": 39,
   "id": "bbd49532",
   "metadata": {},
   "outputs": [],
   "source": [
    "import spacy\n",
    "from spacy.lang.en.stop_words import STOP_WORDS\n",
    "from string import punctuation"
   ]
  },
  {
   "cell_type": "code",
   "execution_count": 40,
   "id": "99fb5d72",
   "metadata": {},
   "outputs": [
    {
     "data": {
      "text/plain": [
       "['somewhere',\n",
       " 'per',\n",
       " 'twelve',\n",
       " 'ten',\n",
       " 'beside',\n",
       " 'off',\n",
       " 'besides',\n",
       " 'hers',\n",
       " 'both',\n",
       " 'at',\n",
       " 'done',\n",
       " 'never',\n",
       " 'themselves',\n",
       " 'amongst',\n",
       " 'each',\n",
       " 'am',\n",
       " 'due',\n",
       " 'hence',\n",
       " 'them',\n",
       " 'has',\n",
       " 'anywhere',\n",
       " 'move',\n",
       " 'anyone',\n",
       " 'itself',\n",
       " 'latterly',\n",
       " 'our',\n",
       " 'still',\n",
       " 'herein',\n",
       " 'moreover',\n",
       " 'can',\n",
       " 'bottom',\n",
       " 'ca',\n",
       " 'though',\n",
       " 'which',\n",
       " 'a',\n",
       " 'others',\n",
       " 'now',\n",
       " 'as',\n",
       " 'this',\n",
       " 'whenever',\n",
       " 'against',\n",
       " 'even',\n",
       " 'along',\n",
       " '‘re',\n",
       " 'however',\n",
       " 'on',\n",
       " 'twenty',\n",
       " \"'ll\",\n",
       " 'neither',\n",
       " 'these',\n",
       " 'became',\n",
       " 'any',\n",
       " 'further',\n",
       " 'name',\n",
       " 'without',\n",
       " 'than',\n",
       " 'five',\n",
       " 'among',\n",
       " 'six',\n",
       " 'yet',\n",
       " 'such',\n",
       " 'otherwise',\n",
       " 'ours',\n",
       " 'everyone',\n",
       " 'another',\n",
       " 'when',\n",
       " 'then',\n",
       " 'sixty',\n",
       " 'seemed',\n",
       " 'seems',\n",
       " '‘d',\n",
       " '’ve',\n",
       " 'across',\n",
       " 'once',\n",
       " 'me',\n",
       " 'become',\n",
       " 'anything',\n",
       " 'other',\n",
       " 'either',\n",
       " 'is',\n",
       " 'the',\n",
       " 'yourselves',\n",
       " 'how',\n",
       " 'whence',\n",
       " 'using',\n",
       " 'before',\n",
       " 'did',\n",
       " 'perhaps',\n",
       " 'least',\n",
       " 'up',\n",
       " 'front',\n",
       " 'namely',\n",
       " 'eleven',\n",
       " 'my',\n",
       " 'same',\n",
       " '’re',\n",
       " 'nine',\n",
       " 'so',\n",
       " 'fifteen',\n",
       " 'mostly',\n",
       " 'if',\n",
       " 'whereupon',\n",
       " 'whereas',\n",
       " 'most',\n",
       " 'thereupon',\n",
       " 'those',\n",
       " 'had',\n",
       " 'seem',\n",
       " 'via',\n",
       " 'his',\n",
       " 'noone',\n",
       " 'whose',\n",
       " 'where',\n",
       " 'or',\n",
       " 'full',\n",
       " 'some',\n",
       " 'many',\n",
       " 'every',\n",
       " 'your',\n",
       " 'everywhere',\n",
       " '’s',\n",
       " 'ever',\n",
       " 'again',\n",
       " 'first',\n",
       " 'from',\n",
       " 'do',\n",
       " 'just',\n",
       " 'they',\n",
       " 'really',\n",
       " 'their',\n",
       " '‘m',\n",
       " 'more',\n",
       " 'its',\n",
       " 'during',\n",
       " 'whereafter',\n",
       " 'be',\n",
       " 'two',\n",
       " 'have',\n",
       " 'while',\n",
       " 'enough',\n",
       " 'four',\n",
       " 'already',\n",
       " 'being',\n",
       " 'hereafter',\n",
       " 'we',\n",
       " 'whereby',\n",
       " 'rather',\n",
       " '’d',\n",
       " 'although',\n",
       " 'about',\n",
       " 'see',\n",
       " 'thence',\n",
       " \"'ve\",\n",
       " 'out',\n",
       " 'seeming',\n",
       " 'nothing',\n",
       " 'hereupon',\n",
       " 'unless',\n",
       " 'whatever',\n",
       " 'thru',\n",
       " 'may',\n",
       " 'myself',\n",
       " 'toward',\n",
       " 'will',\n",
       " 'back',\n",
       " 'ourselves',\n",
       " 'made',\n",
       " 'used',\n",
       " 'might',\n",
       " 'yourself',\n",
       " 'mine',\n",
       " 'to',\n",
       " 'too',\n",
       " 'quite',\n",
       " 'make',\n",
       " 'please',\n",
       " '‘ll',\n",
       " 'within',\n",
       " 'must',\n",
       " 'could',\n",
       " 'latter',\n",
       " 'who',\n",
       " 'above',\n",
       " 'nowhere',\n",
       " 'was',\n",
       " \"'re\",\n",
       " 'give',\n",
       " 'no',\n",
       " \"n't\",\n",
       " 'show',\n",
       " 'get',\n",
       " 'forty',\n",
       " 'himself',\n",
       " 'someone',\n",
       " 'anyway',\n",
       " 'hundred',\n",
       " 'almost',\n",
       " 'herself',\n",
       " 'part',\n",
       " 'cannot',\n",
       " 'therefore',\n",
       " 'one',\n",
       " 'yours',\n",
       " 'she',\n",
       " 'meanwhile',\n",
       " 'always',\n",
       " 'doing',\n",
       " 'towards',\n",
       " 'whoever',\n",
       " 'and',\n",
       " 'because',\n",
       " 'next',\n",
       " 'often',\n",
       " 'over',\n",
       " 'own',\n",
       " 'him',\n",
       " 'empty',\n",
       " 'it',\n",
       " 'whither',\n",
       " '‘s',\n",
       " 'beforehand',\n",
       " 'but',\n",
       " 'for',\n",
       " 'are',\n",
       " 'together',\n",
       " 'down',\n",
       " 'wherever',\n",
       " 'put',\n",
       " 'somehow',\n",
       " 'third',\n",
       " 'her',\n",
       " 'very',\n",
       " 'formerly',\n",
       " 'go',\n",
       " 'last',\n",
       " 'through',\n",
       " 'since',\n",
       " 'after',\n",
       " 'by',\n",
       " 'sometime',\n",
       " 'us',\n",
       " 'were',\n",
       " 'throughout',\n",
       " 'call',\n",
       " 'in',\n",
       " 'thus',\n",
       " 'not',\n",
       " 'should',\n",
       " 'under',\n",
       " 'behind',\n",
       " 'less',\n",
       " 'three',\n",
       " 'amount',\n",
       " 'alone',\n",
       " 'below',\n",
       " 'several',\n",
       " 'much',\n",
       " 'whole',\n",
       " 'here',\n",
       " 'elsewhere',\n",
       " 'only',\n",
       " 'take',\n",
       " 'i',\n",
       " 'upon',\n",
       " 'onto',\n",
       " 'everything',\n",
       " 'well',\n",
       " 'whether',\n",
       " 'he',\n",
       " \"'s\",\n",
       " 'except',\n",
       " 'n‘t',\n",
       " 'that',\n",
       " 'eight',\n",
       " 'what',\n",
       " 'between',\n",
       " 'into',\n",
       " 'you',\n",
       " 'former',\n",
       " 'with',\n",
       " 'keep',\n",
       " 'nobody',\n",
       " '’m',\n",
       " 'until',\n",
       " 'an',\n",
       " 'anyhow',\n",
       " 'hereby',\n",
       " 'n’t',\n",
       " 'nevertheless',\n",
       " 'sometimes',\n",
       " 'thereby',\n",
       " \"'d\",\n",
       " \"'m\",\n",
       " 'why',\n",
       " 'thereafter',\n",
       " 'been',\n",
       " 'few',\n",
       " 'there',\n",
       " 'nor',\n",
       " 'of',\n",
       " 'afterwards',\n",
       " 'indeed',\n",
       " 'also',\n",
       " 'regarding',\n",
       " 'becoming',\n",
       " 'else',\n",
       " 'various',\n",
       " 're',\n",
       " 'does',\n",
       " 'say',\n",
       " 'fifty',\n",
       " 'serious',\n",
       " 'none',\n",
       " 'something',\n",
       " 'all',\n",
       " 'top',\n",
       " 'would',\n",
       " 'wherein',\n",
       " 'whom',\n",
       " 'becomes',\n",
       " 'side',\n",
       " 'beyond',\n",
       " '’ll',\n",
       " 'around',\n",
       " '‘ve',\n",
       " 'therein']"
      ]
     },
     "execution_count": 40,
     "metadata": {},
     "output_type": "execute_result"
    }
   ],
   "source": [
    "stopwords= list(STOP_WORDS)\n",
    "stopwords"
   ]
  },
  {
   "cell_type": "code",
   "execution_count": 41,
   "id": "a849aca2",
   "metadata": {},
   "outputs": [],
   "source": [
    "nlp=spacy.load(\"en_core_web_sm\")"
   ]
  },
  {
   "cell_type": "code",
   "execution_count": 42,
   "id": "23cc77e5",
   "metadata": {},
   "outputs": [],
   "source": [
    "doc=nlp(Text) # from this the words are tokenized"
   ]
  },
  {
   "cell_type": "code",
   "execution_count": 43,
   "id": "b1788b6d",
   "metadata": {},
   "outputs": [
    {
     "name": "stdout",
     "output_type": "stream",
     "text": [
      "['\\n', '(', 'IAFS', '-', 'III', ')', 'brought', 'the', 'leaders', 'and', 'representatives', 'of', 'all', '54', 'countries', 'of', 'the', 'dynamic', 'African', 'countries', 'to', 'New', 'Delhi', 'for', 'first', 'time', 'in', 'a', 'landmark', 'summit', 'meeting', 'that', 'is', 'set', 'to', 'upscale', 'and', 'transform', 'the', 'multi', '-', 'faceted', 'India', '-', 'Africa', 'partnership', '.', 'This', 'was', 'by', 'far', 'the', 'biggest', 'gathering', 'of', 'African', 'leaders', 'on', 'the', 'Indian', 'soil', 'and', 'showcased', 'multiple', 'dimensions', 'of', 'the', 'India', '-', 'Africa', 'relationship', 'that', 'is', 'pivoted', 'around', 'trade', ',', 'training', ',', 'technology', ',', 'capacity', 'building', 'and', 'development', 'partnership', '.', 'In', 'a', 'clear', 'reaffirmation', 'of', 'their', 'unstinting', 'commitment', 'to', 'building', 'lasting', 'partnerships', 'with', 'India', ',', '41', 'countries', 'were', 'represented', 'at', 'the', 'level', 'of', 'heads', 'of', 'state', '/', 'government', '.', '\\n\\n', 'The', 'architecture', 'of', 'the', 'India', '-', 'Africa', 'engagement', 'is', 'evolving', ',', 'with', 'the', 'two', 'sides', 'relating', 'at', 'three', 'levels', ',', 'namely', 'bilateral', ',', 'Regional', 'Economic', 'Communities', '(', 'RECs', ')', 'and', 'the', 'African', 'Union', '.', '\\n\\n', 'The', 'IAFS', '-', 'III', 'brought', 'out', 'vividly', 'an', 'increasing', 'convergence', 'of', 'interests', ',', 'values', 'and', 'a', 'burgeoning', 'web', 'of', 'win', '-', 'win', 'partnership', 'between', 'the', 'two', 'growth', 'poles', 'of', 'the', 'world', '.', 'Afro', '-', 'optimism', 'is', 'for', 'real', ',', 'and', 'is', 'attested', 'by', 'latest', 'trends', ',', 'with', 'more', 'than', 'thirty', 'African', 'countries', 'becoming', 'functioning', 'democracies', '.', 'And', 'it', '’s', 'not', 'just', 'resource', '-', 'rich', 'countries', 'that', 'are', 'doing', 'well', ',', 'but', 'also', 'those', 'countries', ',', 'which', 'are', 'driven', 'by', 'enterprise', 'and', 'innovation', 'of', 'their', 'people', '.', '\\n\\n', 'The', 'resurgence', 'of', 'Africa', 'has', 'coincided', 'with', 'the', 'rise', 'of', 'India', 'as', 'a', 'global', 'player', ',', 'investor', 'and', 'provider', 'of', 'developmental', 'assistance', '.', 'The', 'two', 'narratives', 'are', 'now', 'getting', 'intertwined', ':', 'be', 'it', 'trade', ',', 'technology', ',', 'training', 'or', 'reform', 'of', 'global', 'governance', ',', 'the', 'multi', '-', 'faceted', 'ties', 'between', 'India', 'and', 'Africa', 'are', 'blossoming', 'and', 'finding', 'new', 'areas', 'of', 'convergence', '.', 'The', 'third', 'India', '-', 'Africa', 'Forum', 'Summit', 'has', 'opened', 'new', 'avenues', 'for', 'upscaling', 'the', 'India', '-', 'Africa', 'partnership', 'across', 'the', 'spectrum', '.', '\\n    \\n']\n"
     ]
    }
   ],
   "source": [
    "tokens = [token.text for token in doc]\n",
    "print(tokens)"
   ]
  },
  {
   "cell_type": "code",
   "execution_count": 44,
   "id": "a2a85a52",
   "metadata": {},
   "outputs": [
    {
     "data": {
      "text/plain": [
       "'!\"#$%&\\'()*+,-./:;<=>?@[\\\\]^_`{|}~'"
      ]
     },
     "execution_count": 44,
     "metadata": {},
     "output_type": "execute_result"
    }
   ],
   "source": [
    "punctuation"
   ]
  },
  {
   "cell_type": "code",
   "execution_count": 47,
   "id": "f1a31778",
   "metadata": {},
   "outputs": [
    {
     "data": {
      "text/plain": [
       "'!\"#$%&\\'()*+,-./:;<=>?@[\\\\]^_`{|}~/n\\n'"
      ]
     },
     "execution_count": 47,
     "metadata": {},
     "output_type": "execute_result"
    }
   ],
   "source": [
    "#\\n -> means new line\n",
    "#Here we are adding '/n' with standard punctuation already in the library\n",
    "punctuation=punctuation + '\\n'\n",
    "punctuation"
   ]
  },
  {
   "cell_type": "code",
   "execution_count": 48,
   "id": "d1a21487",
   "metadata": {},
   "outputs": [
    {
     "data": {
      "text/plain": [
       "{'IAFS': 2,\n",
       " 'III': 2,\n",
       " 'brought': 2,\n",
       " 'leaders': 2,\n",
       " 'representatives': 1,\n",
       " '54': 1,\n",
       " 'countries': 6,\n",
       " 'dynamic': 1,\n",
       " 'African': 4,\n",
       " 'New': 1,\n",
       " 'Delhi': 1,\n",
       " 'time': 1,\n",
       " 'landmark': 1,\n",
       " 'summit': 1,\n",
       " 'meeting': 1,\n",
       " 'set': 1,\n",
       " 'upscale': 1,\n",
       " 'transform': 1,\n",
       " 'multi': 2,\n",
       " 'faceted': 2,\n",
       " 'India': 8,\n",
       " 'Africa': 7,\n",
       " 'partnership': 4,\n",
       " 'far': 1,\n",
       " 'biggest': 1,\n",
       " 'gathering': 1,\n",
       " 'Indian': 1,\n",
       " 'soil': 1,\n",
       " 'showcased': 1,\n",
       " 'multiple': 1,\n",
       " 'dimensions': 1,\n",
       " 'relationship': 1,\n",
       " 'pivoted': 1,\n",
       " 'trade': 2,\n",
       " 'training': 2,\n",
       " 'technology': 2,\n",
       " 'capacity': 1,\n",
       " 'building': 2,\n",
       " 'development': 1,\n",
       " 'clear': 1,\n",
       " 'reaffirmation': 1,\n",
       " 'unstinting': 1,\n",
       " 'commitment': 1,\n",
       " 'lasting': 1,\n",
       " 'partnerships': 1,\n",
       " '41': 1,\n",
       " 'represented': 1,\n",
       " 'level': 1,\n",
       " 'heads': 1,\n",
       " 'state': 1,\n",
       " 'government': 1,\n",
       " '\\n\\n': 3,\n",
       " 'architecture': 1,\n",
       " 'engagement': 1,\n",
       " 'evolving': 1,\n",
       " 'sides': 1,\n",
       " 'relating': 1,\n",
       " 'levels': 1,\n",
       " 'bilateral': 1,\n",
       " 'Regional': 1,\n",
       " 'Economic': 1,\n",
       " 'Communities': 1,\n",
       " 'RECs': 1,\n",
       " 'Union': 1,\n",
       " 'vividly': 1,\n",
       " 'increasing': 1,\n",
       " 'convergence': 2,\n",
       " 'interests': 1,\n",
       " 'values': 1,\n",
       " 'burgeoning': 1,\n",
       " 'web': 1,\n",
       " 'win': 2,\n",
       " 'growth': 1,\n",
       " 'poles': 1,\n",
       " 'world': 1,\n",
       " 'Afro': 1,\n",
       " 'optimism': 1,\n",
       " 'real': 1,\n",
       " 'attested': 1,\n",
       " 'latest': 1,\n",
       " 'trends': 1,\n",
       " 'thirty': 1,\n",
       " 'functioning': 1,\n",
       " 'democracies': 1,\n",
       " 'resource': 1,\n",
       " 'rich': 1,\n",
       " 'driven': 1,\n",
       " 'enterprise': 1,\n",
       " 'innovation': 1,\n",
       " 'people': 1,\n",
       " 'resurgence': 1,\n",
       " 'coincided': 1,\n",
       " 'rise': 1,\n",
       " 'global': 2,\n",
       " 'player': 1,\n",
       " 'investor': 1,\n",
       " 'provider': 1,\n",
       " 'developmental': 1,\n",
       " 'assistance': 1,\n",
       " 'narratives': 1,\n",
       " 'getting': 1,\n",
       " 'intertwined': 1,\n",
       " 'reform': 1,\n",
       " 'governance': 1,\n",
       " 'ties': 1,\n",
       " 'blossoming': 1,\n",
       " 'finding': 1,\n",
       " 'new': 2,\n",
       " 'areas': 1,\n",
       " 'Forum': 1,\n",
       " 'Summit': 1,\n",
       " 'opened': 1,\n",
       " 'avenues': 1,\n",
       " 'upscaling': 1,\n",
       " 'spectrum': 1,\n",
       " '\\n    \\n': 1}"
      ]
     },
     "execution_count": 48,
     "metadata": {},
     "output_type": "execute_result"
    }
   ],
   "source": [
    "# to find the maximum word score\n",
    "\n",
    "word_frequencies = {}\n",
    "for word in doc:\n",
    "    if word.text.lower() not in stopwords:\n",
    "        if word.text.lower() not in punctuation:\n",
    "            if word.text not in word_frequencies .keys():\n",
    "                word_frequencies[word.text] = 1\n",
    "            else:\n",
    "                word_frequencies[word.text] +=1\n",
    "\n",
    "                \n",
    "word_frequencies                "
   ]
  },
  {
   "cell_type": "code",
   "execution_count": 49,
   "id": "0b375c5a",
   "metadata": {},
   "outputs": [],
   "source": [
    "max_frequency=max(word_frequencies.values())"
   ]
  },
  {
   "cell_type": "code",
   "execution_count": 50,
   "id": "ce6f74f1",
   "metadata": {},
   "outputs": [
    {
     "data": {
      "text/plain": [
       "8"
      ]
     },
     "execution_count": 50,
     "metadata": {},
     "output_type": "execute_result"
    }
   ],
   "source": [
    "max_frequency"
   ]
  },
  {
   "cell_type": "code",
   "execution_count": 51,
   "id": "cc294a33",
   "metadata": {},
   "outputs": [],
   "source": [
    "# so now we need to divide this value to all values so that we can get the normalized values\n",
    "\n",
    "for word in word_frequencies.keys():\n",
    "    word_frequencies[word] = word_frequencies[word]/max_frequency\n"
   ]
  },
  {
   "cell_type": "code",
   "execution_count": 52,
   "id": "9daac088",
   "metadata": {},
   "outputs": [
    {
     "data": {
      "text/plain": [
       "{'IAFS': 0.25,\n",
       " 'III': 0.25,\n",
       " 'brought': 0.25,\n",
       " 'leaders': 0.25,\n",
       " 'representatives': 0.125,\n",
       " '54': 0.125,\n",
       " 'countries': 0.75,\n",
       " 'dynamic': 0.125,\n",
       " 'African': 0.5,\n",
       " 'New': 0.125,\n",
       " 'Delhi': 0.125,\n",
       " 'time': 0.125,\n",
       " 'landmark': 0.125,\n",
       " 'summit': 0.125,\n",
       " 'meeting': 0.125,\n",
       " 'set': 0.125,\n",
       " 'upscale': 0.125,\n",
       " 'transform': 0.125,\n",
       " 'multi': 0.25,\n",
       " 'faceted': 0.25,\n",
       " 'India': 1.0,\n",
       " 'Africa': 0.875,\n",
       " 'partnership': 0.5,\n",
       " 'far': 0.125,\n",
       " 'biggest': 0.125,\n",
       " 'gathering': 0.125,\n",
       " 'Indian': 0.125,\n",
       " 'soil': 0.125,\n",
       " 'showcased': 0.125,\n",
       " 'multiple': 0.125,\n",
       " 'dimensions': 0.125,\n",
       " 'relationship': 0.125,\n",
       " 'pivoted': 0.125,\n",
       " 'trade': 0.25,\n",
       " 'training': 0.25,\n",
       " 'technology': 0.25,\n",
       " 'capacity': 0.125,\n",
       " 'building': 0.25,\n",
       " 'development': 0.125,\n",
       " 'clear': 0.125,\n",
       " 'reaffirmation': 0.125,\n",
       " 'unstinting': 0.125,\n",
       " 'commitment': 0.125,\n",
       " 'lasting': 0.125,\n",
       " 'partnerships': 0.125,\n",
       " '41': 0.125,\n",
       " 'represented': 0.125,\n",
       " 'level': 0.125,\n",
       " 'heads': 0.125,\n",
       " 'state': 0.125,\n",
       " 'government': 0.125,\n",
       " '\\n\\n': 0.375,\n",
       " 'architecture': 0.125,\n",
       " 'engagement': 0.125,\n",
       " 'evolving': 0.125,\n",
       " 'sides': 0.125,\n",
       " 'relating': 0.125,\n",
       " 'levels': 0.125,\n",
       " 'bilateral': 0.125,\n",
       " 'Regional': 0.125,\n",
       " 'Economic': 0.125,\n",
       " 'Communities': 0.125,\n",
       " 'RECs': 0.125,\n",
       " 'Union': 0.125,\n",
       " 'vividly': 0.125,\n",
       " 'increasing': 0.125,\n",
       " 'convergence': 0.25,\n",
       " 'interests': 0.125,\n",
       " 'values': 0.125,\n",
       " 'burgeoning': 0.125,\n",
       " 'web': 0.125,\n",
       " 'win': 0.25,\n",
       " 'growth': 0.125,\n",
       " 'poles': 0.125,\n",
       " 'world': 0.125,\n",
       " 'Afro': 0.125,\n",
       " 'optimism': 0.125,\n",
       " 'real': 0.125,\n",
       " 'attested': 0.125,\n",
       " 'latest': 0.125,\n",
       " 'trends': 0.125,\n",
       " 'thirty': 0.125,\n",
       " 'functioning': 0.125,\n",
       " 'democracies': 0.125,\n",
       " 'resource': 0.125,\n",
       " 'rich': 0.125,\n",
       " 'driven': 0.125,\n",
       " 'enterprise': 0.125,\n",
       " 'innovation': 0.125,\n",
       " 'people': 0.125,\n",
       " 'resurgence': 0.125,\n",
       " 'coincided': 0.125,\n",
       " 'rise': 0.125,\n",
       " 'global': 0.25,\n",
       " 'player': 0.125,\n",
       " 'investor': 0.125,\n",
       " 'provider': 0.125,\n",
       " 'developmental': 0.125,\n",
       " 'assistance': 0.125,\n",
       " 'narratives': 0.125,\n",
       " 'getting': 0.125,\n",
       " 'intertwined': 0.125,\n",
       " 'reform': 0.125,\n",
       " 'governance': 0.125,\n",
       " 'ties': 0.125,\n",
       " 'blossoming': 0.125,\n",
       " 'finding': 0.125,\n",
       " 'new': 0.25,\n",
       " 'areas': 0.125,\n",
       " 'Forum': 0.125,\n",
       " 'Summit': 0.125,\n",
       " 'opened': 0.125,\n",
       " 'avenues': 0.125,\n",
       " 'upscaling': 0.125,\n",
       " 'spectrum': 0.125,\n",
       " '\\n    \\n': 0.125}"
      ]
     },
     "execution_count": 52,
     "metadata": {},
     "output_type": "execute_result"
    }
   ],
   "source": [
    "# so the normalization is over\n",
    "word_frequencies"
   ]
  },
  {
   "cell_type": "code",
   "execution_count": 53,
   "id": "4d2b460a",
   "metadata": {},
   "outputs": [
    {
     "name": "stdout",
     "output_type": "stream",
     "text": [
      "[\n",
      "(IAFS-III) brought the leaders and representatives of all 54 countries of the dynamic African countries to New Delhi for first time in a landmark summit meeting that is set to upscale and transform the multi-faceted India-Africa partnership., This was by far the biggest gathering of African leaders on the Indian soil and showcased multiple dimensions of the India-Africa relationship that is pivoted around trade, training, technology, capacity building and development partnership., In a clear reaffirmation of their unstinting commitment to building lasting partnerships with India, 41 countries were represented at the level of heads of state/government., \n",
      "\n",
      "The architecture of the India-Africa engagement is evolving, with the two sides relating at three levels, namely bilateral, Regional Economic Communities (RECs) and the African Union., \n",
      "\n",
      "The IAFS-III brought out vividly an increasing convergence of interests, values and a burgeoning web of win-win partnership between the two growth poles of the world., Afro-optimism is for real, and is attested by latest trends, with more than thirty African countries becoming functioning democracies., And it’s not just resource-rich countries that are doing well, but also those countries, which are driven by enterprise and innovation of their people., \n",
      "\n",
      ", The resurgence of Africa has coincided with the rise of India as a global player, investor and provider of developmental assistance., The two narratives are now getting intertwined: be it trade, technology, training or reform of global governance, the multi-faceted ties between India and Africa are blossoming and finding new areas of convergence., The third India-Africa Forum Summit has opened new avenues for upscaling the India-Africa partnership across the spectrum., \n",
      "    \n",
      "]\n"
     ]
    }
   ],
   "source": [
    "sentence_tokens=[sent for sent in doc.sents]\n",
    "print(sentence_tokens)"
   ]
  },
  {
   "cell_type": "code",
   "execution_count": 57,
   "id": "fc3fb661",
   "metadata": {},
   "outputs": [
    {
     "data": {
      "text/plain": [
       "{\n",
       " (IAFS-III) brought the leaders and representatives of all 54 countries of the dynamic African countries to New Delhi for first time in a landmark summit meeting that is set to upscale and transform the multi-faceted India-Africa partnership.: 4.5,\n",
       " This was by far the biggest gathering of African leaders on the Indian soil and showcased multiple dimensions of the India-Africa relationship that is pivoted around trade, training, technology, capacity building and development partnership.: 3.125,\n",
       " In a clear reaffirmation of their unstinting commitment to building lasting partnerships with India, 41 countries were represented at the level of heads of state/government.: 2.5,\n",
       " \n",
       " \n",
       " The architecture of the India-Africa engagement is evolving, with the two sides relating at three levels, namely bilateral, Regional Economic Communities (RECs) and the African Union.: 1.25,\n",
       " \n",
       " \n",
       " The IAFS-III brought out vividly an increasing convergence of interests, values and a burgeoning web of win-win partnership between the two growth poles of the world.: 3.0,\n",
       " Afro-optimism is for real, and is attested by latest trends, with more than thirty African countries becoming functioning democracies.: 1.75,\n",
       " And it’s not just resource-rich countries that are doing well, but also those countries, which are driven by enterprise and innovation of their people.: 2.25,\n",
       " \n",
       " : 0.375,\n",
       " The resurgence of Africa has coincided with the rise of India as a global player, investor and provider of developmental assistance.: 1.25,\n",
       " The two narratives are now getting intertwined: be it trade, technology, training or reform of global governance, the multi-faceted ties between India and Africa are blossoming and finding new areas of convergence.: 3.125,\n",
       " The third India-Africa Forum Summit has opened new avenues for upscaling the India-Africa partnership across the spectrum.: 1.375,\n",
       " \n",
       "     : 0.125}"
      ]
     },
     "execution_count": 57,
     "metadata": {},
     "output_type": "execute_result"
    }
   ],
   "source": [
    "# to find the sentence score\n",
    "\n",
    "sentence_scores = {}\n",
    "for sent in sentence_tokens:\n",
    "    for word in sent:\n",
    "        if word.text.lower() in word_frequencies.keys():\n",
    "            if sent not in sentence_scores.keys():\n",
    "                sentence_scores[sent] = word_frequencies[word.text.lower()]\n",
    "            else:\n",
    "                sentence_scores[sent] += word_frequencies[word.text.lower()]\n",
    "                    \n",
    "sentence_scores  "
   ]
  },
  {
   "cell_type": "markdown",
   "id": "67f04614",
   "metadata": {},
   "source": [
    "#### Now we want  to select 30% of sentence with maximum score"
   ]
  },
  {
   "cell_type": "code",
   "execution_count": 58,
   "id": "d1e033b4",
   "metadata": {},
   "outputs": [],
   "source": [
    "from heapq import nlargest"
   ]
  },
  {
   "cell_type": "code",
   "execution_count": 59,
   "id": "8f563d3b",
   "metadata": {},
   "outputs": [
    {
     "data": {
      "text/plain": [
       "3"
      ]
     },
     "execution_count": 59,
     "metadata": {},
     "output_type": "execute_result"
    }
   ],
   "source": [
    "# here 0.3 indicates the 30%\n",
    "select_length = int(len(sentence_tokens)*0.3)\n",
    "select_length"
   ]
  },
  {
   "cell_type": "markdown",
   "id": "7b6ca8d8",
   "metadata": {},
   "source": [
    "#### so now we want to select 3 sentences for the 30% of the corpus"
   ]
  },
  {
   "cell_type": "code",
   "execution_count": 61,
   "id": "14b6903d",
   "metadata": {},
   "outputs": [],
   "source": [
    "summary = nlargest(select_length,sentence_scores,key = sentence_scores.get)"
   ]
  },
  {
   "cell_type": "code",
   "execution_count": 62,
   "id": "2fd31ac4",
   "metadata": {},
   "outputs": [
    {
     "data": {
      "text/plain": [
       "[\n",
       " (IAFS-III) brought the leaders and representatives of all 54 countries of the dynamic African countries to New Delhi for first time in a landmark summit meeting that is set to upscale and transform the multi-faceted India-Africa partnership.,\n",
       " This was by far the biggest gathering of African leaders on the Indian soil and showcased multiple dimensions of the India-Africa relationship that is pivoted around trade, training, technology, capacity building and development partnership.,\n",
       " The two narratives are now getting intertwined: be it trade, technology, training or reform of global governance, the multi-faceted ties between India and Africa are blossoming and finding new areas of convergence.]"
      ]
     },
     "execution_count": 62,
     "metadata": {},
     "output_type": "execute_result"
    }
   ],
   "source": [
    "# so this is the summary of the corpus\n",
    "summary"
   ]
  },
  {
   "cell_type": "code",
   "execution_count": 63,
   "id": "ce63cd40",
   "metadata": {},
   "outputs": [
    {
     "name": "stdout",
     "output_type": "stream",
     "text": [
      "\n",
      "(IAFS-III) brought the leaders and representatives of all 54 countries of the dynamic African countries to New Delhi for first time in a landmark summit meeting that is set to upscale and transform the multi-faceted India-Africa partnership. This was by far the biggest gathering of African leaders on the Indian soil and showcased multiple dimensions of the India-Africa relationship that is pivoted around trade, training, technology, capacity building and development partnership. In a clear reaffirmation of their unstinting commitment to building lasting partnerships with India, 41 countries were represented at the level of heads of state/government.\n",
      "\n",
      "The architecture of the India-Africa engagement is evolving, with the two sides relating at three levels, namely bilateral, Regional Economic Communities (RECs) and the African Union.\n",
      "\n",
      "The IAFS-III brought out vividly an increasing convergence of interests, values and a burgeoning web of win-win partnership between the two growth poles of the world. Afro-optimism is for real, and is attested by latest trends, with more than thirty African countries becoming functioning democracies.And it’s not just resource-rich countries that are doing well, but also those countries, which are driven by enterprise and innovation of their people.\n",
      "\n",
      "The resurgence of Africa has coincided with the rise of India as a global player, investor and provider of developmental assistance. The two narratives are now getting intertwined: be it trade, technology, training or reform of global governance, the multi-faceted ties between India and Africa are blossoming and finding new areas of convergence. The third India-Africa Forum Summit has opened new avenues for upscaling the India-Africa partnership across the spectrum.\n",
      "    \n",
      "\n"
     ]
    }
   ],
   "source": [
    "print(Text)"
   ]
  },
  {
   "cell_type": "code",
   "execution_count": 64,
   "id": "10897638",
   "metadata": {},
   "outputs": [],
   "source": [
    "# if the summary output is having separate sentences with gaps , to combine all into one sentence use below program\n",
    "final_summary= [word.text for word in summary]"
   ]
  },
  {
   "cell_type": "code",
   "execution_count": 65,
   "id": "f9a02270",
   "metadata": {},
   "outputs": [],
   "source": [
    "summary=''.join(final_summary)"
   ]
  },
  {
   "cell_type": "code",
   "execution_count": 66,
   "id": "8bbc5eeb",
   "metadata": {},
   "outputs": [
    {
     "name": "stdout",
     "output_type": "stream",
     "text": [
      "\n",
      "(IAFS-III) brought the leaders and representatives of all 54 countries of the dynamic African countries to New Delhi for first time in a landmark summit meeting that is set to upscale and transform the multi-faceted India-Africa partnership.This was by far the biggest gathering of African leaders on the Indian soil and showcased multiple dimensions of the India-Africa relationship that is pivoted around trade, training, technology, capacity building and development partnership.The two narratives are now getting intertwined: be it trade, technology, training or reform of global governance, the multi-faceted ties between India and Africa are blossoming and finding new areas of convergence.\n"
     ]
    }
   ],
   "source": [
    "print(summary)"
   ]
  },
  {
   "cell_type": "code",
   "execution_count": 67,
   "id": "24c0aa7a",
   "metadata": {},
   "outputs": [],
   "source": [
    "# From above for the previous and present summary we can see a difference"
   ]
  },
  {
   "cell_type": "code",
   "execution_count": 68,
   "id": "763d50da",
   "metadata": {},
   "outputs": [
    {
     "data": {
      "text/plain": [
       "1775"
      ]
     },
     "execution_count": 68,
     "metadata": {},
     "output_type": "execute_result"
    }
   ],
   "source": [
    "len(Text)"
   ]
  },
  {
   "cell_type": "code",
   "execution_count": 69,
   "id": "f05210a1",
   "metadata": {},
   "outputs": [
    {
     "data": {
      "text/plain": [
       "697"
      ]
     },
     "execution_count": 69,
     "metadata": {},
     "output_type": "execute_result"
    }
   ],
   "source": [
    "len(summary)"
   ]
  },
  {
   "cell_type": "code",
   "execution_count": 70,
   "id": "e9f148c0",
   "metadata": {},
   "outputs": [],
   "source": [
    "# so it is the 30% of the length  of original text"
   ]
  },
  {
   "cell_type": "code",
   "execution_count": null,
   "id": "51eda184",
   "metadata": {},
   "outputs": [],
   "source": []
  }
 ],
 "metadata": {
  "kernelspec": {
   "display_name": "Python 3",
   "language": "python",
   "name": "python3"
  },
  "language_info": {
   "codemirror_mode": {
    "name": "ipython",
    "version": 3
   },
   "file_extension": ".py",
   "mimetype": "text/x-python",
   "name": "python",
   "nbconvert_exporter": "python",
   "pygments_lexer": "ipython3",
   "version": "3.7.10"
  }
 },
 "nbformat": 4,
 "nbformat_minor": 5
}
